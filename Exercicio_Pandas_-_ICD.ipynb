{
 "cells": [
  {
   "cell_type": "markdown",
   "id": "a39838fa",
   "metadata": {},
   "source": [
    "#### Exercício sobre Pandas, Vinícius Vieri Bezerra de Lima, Introdução à Ciência de dados.\n",
    "\n",
    "A partir do dataset movies.csv utilize o Pandas para responder as perguntas:\n",
    "    \n",
    "Pergunta 1: Qual o gênero de filme mais lucrativo em todo o mundo?\n",
    "\n",
    "Pergunta 2: Qual o diretor dirigiu mais filmes?\n",
    "\n",
    "Pergunta 3: Quais filmes tiveram as maiores arrecadações (Gross) em relação ao orçamento de produção (Budget)?"
   ]
  },
  {
   "cell_type": "code",
   "execution_count": null,
   "id": "a347f780",
   "metadata": {},
   "outputs": [],
   "source": [
    "import numpy as np\n",
    "import pandas as pd\n",
    "dados = 'https://raw.githubusercontent.com/yurimalheiros/icd/master/datasets/movies.csv'\n",
    "dataframe = pd.read_csv(dados)"
   ]
  },
  {
   "cell_type": "code",
   "execution_count": null,
   "id": "ddeb01ef",
   "metadata": {},
   "outputs": [],
   "source": [
    "### Uma olhada básica no dataframe.\n",
    "\n",
    "dataframe.head()"
   ]
  },
  {
   "cell_type": "code",
   "execution_count": null,
   "id": "54277cf2",
   "metadata": {},
   "outputs": [],
   "source": [
    "### Pergunta 1: Qual o gênero de filme mais lucrativo em todo o mundo?\n",
    "\n",
    "genre_profit = dataframe.groupby('Major Genre').mean().sort_values(by = 'Worldwide Gross', ascending = False)\n",
    "[['Worldwide Gross']]\n",
    "genre_profit\n",
    "\n",
    "## Aventura é o mais lucrativo."
   ]
  },
  {
   "cell_type": "code",
   "execution_count": null,
   "id": "79837852",
   "metadata": {},
   "outputs": [],
   "source": [
    "### Pergunta 2: Qual o diretor dirigiu mais filmes?\n",
    "\n",
    "dataframe['Director'].value_counts()\n",
    "\n",
    "## Steven Spielberg"
   ]
  },
  {
   "cell_type": "code",
   "execution_count": null,
   "id": "132fac1c",
   "metadata": {},
   "outputs": [],
   "source": [
    "### Pergunta 3: Quais filmes tiveram as maiores arrecadações (Gross) em relação ao orçamento de produção (Budget)?\n",
    "\n",
    "dataframe['Gross-Budget']= (dataframe['Worldwide Gross'] - dataframe['Production Budget'])\n",
    "dataframe.sort_values(['Worldwide Gross'], ascending = False) \n",
    "\n",
    "## foi criada uma nova coluna com a gross-budget, deslizar para a direita para ver.\n",
    "## Avatar, Titanic e Senhor dos anéis lideram."
   ]
  }
 ],
 "metadata": {
  "kernelspec": {
   "display_name": "Python 3 (ipykernel)",
   "language": "python",
   "name": "python3"
  },
  "language_info": {
   "codemirror_mode": {
    "name": "ipython",
    "version": 3
   },
   "file_extension": ".py",
   "mimetype": "text/x-python",
   "name": "python",
   "nbconvert_exporter": "python",
   "pygments_lexer": "ipython3",
   "version": "3.9.7"
  }
 },
 "nbformat": 4,
 "nbformat_minor": 5
}
