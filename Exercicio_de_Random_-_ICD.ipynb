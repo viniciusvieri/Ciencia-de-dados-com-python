{
 "cells": [
  {
   "cell_type": "markdown",
   "id": "9608362a",
   "metadata": {},
   "source": [
    "## Introdução à Ciência de Dados.\n",
    "## Vinícius Vieri"
   ]
  },
  {
   "cell_type": "raw",
   "id": "3d4b163a",
   "metadata": {},
   "source": [
    "-Questão-\n",
    "\n",
    "Python - Random - Exercício\n",
    "Implemente a função generate_password que deve gerar uma senha aleatória.\n",
    "\n",
    "A função tem tres parâmetros:\n",
    "\n",
    "n_chars especifica o tamanho da senha gerada\n",
    "use_numbers especifica se números podem ser usados na senha. Por padrão, esse parâmetro tem valor True\n",
    "use_special_chars especifica se caracteres especiais, por exemplo !#%&@?, pode ser usados na senha. Por padrão, esse parâmetro tem valor True\n",
    "Note que se use_numbers e use_special_chars tiverem valor False, a senha terá apenas letras maiúsculas ou minúsculas.\n",
    "\n",
    "import random\n",
    "\n",
    "def generate_password(n_chars, use_numbers=True, use_special_chars=True):\n",
    "    # ADICIONE O SEU CÓDIGO AQUI\n",
    "    \n",
    "print(generate_password(10))\n",
    "print(generate_password(10, use_numbers=False))\n",
    "print(generate_password(10, use_numbers=False, use_special_chars=False))"
   ]
  },
  {
   "cell_type": "code",
   "execution_count": null,
   "id": "b4bf8603",
   "metadata": {},
   "outputs": [],
   "source": [
    "import random\n",
    "import string\n",
    "from random import choice\n",
    "\n",
    "# Primeiramente importei as bibliotecas que facilitarão a minha vida."
   ]
  },
  {
   "cell_type": "raw",
   "id": "2ba64c8f",
   "metadata": {},
   "source": [
    "!! string. usadas no código !!\n",
    "\n",
    "string.ascii_letters --> abcdefghijklmnopqrstuvwxyzABCDEFGHIJKLMNOPQRSTUVWXYZ\n",
    "string.digits        --> 0123456789\n",
    "string.punctuation   --> <=>?@[\\]^_`{|}~."
   ]
  },
  {
   "cell_type": "code",
   "execution_count": null,
   "id": "806476d2",
   "metadata": {},
   "outputs": [],
   "source": [
    "def generate_password(n_chars, use_numbers=True, use_special_chars=True): #função com os parâmetros informados.    \n",
    "#------------------------------------------------------------------# Senha com letras M e m, números e sinais.\n",
    "    if use_numbers == True and use_special_chars == True:\n",
    "        aleatoria = (string.ascii_letters + string.digits + string.punctuation)\n",
    "        senha = ''\n",
    "        for i in range(n_chars):\n",
    "            senha += choice(aleatoria)\n",
    "        return senha\n",
    "            \n",
    "#------------------------------------------------------------------# Senha com Letras M e m e números.\n",
    "    elif use_numbers == True and  use_special_chars == False:\n",
    "        aleatoria = (string.ascii_letters + string.digits)\n",
    "        senha = ''\n",
    "        for i in range(n_chars):\n",
    "            senha += choice(aleatoria)\n",
    "        return senha\n",
    "            \n",
    "#------------------------------------------------------------------# Senha com Letras M e m e sinais.  \n",
    "    elif use_numbers == False and use_special_chars == True:\n",
    "        aleatoria = (string.ascii_letters + string.punctuation)\n",
    "        senha = ''\n",
    "        for i in range(n_chars):\n",
    "            senha += choice(aleatoria)\n",
    "        return senha\n",
    "            \n",
    "#------------------------------------------------------------------# Senha com Letras M e m.      \n",
    "    else:\n",
    "        aleatoria = (string.ascii_letters)\n",
    "        senha = ''\n",
    "        for i in range(n_chars):\n",
    "            senha += choice(aleatoria)\n",
    "        return senha"
   ]
  },
  {
   "cell_type": "markdown",
   "id": "38856a1f",
   "metadata": {},
   "source": [
    "# Rode o teste abaixo após ter executado os códigos acima."
   ]
  },
  {
   "cell_type": "code",
   "execution_count": null,
   "id": "f45d267d",
   "metadata": {},
   "outputs": [],
   "source": [
    "print(generate_password(10))"
   ]
  },
  {
   "cell_type": "code",
   "execution_count": null,
   "id": "214c01c8",
   "metadata": {},
   "outputs": [],
   "source": [
    "print(generate_password(10, use_numbers=False))"
   ]
  },
  {
   "cell_type": "code",
   "execution_count": null,
   "id": "e588b2a6",
   "metadata": {},
   "outputs": [],
   "source": [
    "print(generate_password(10, use_numbers=False, use_special_chars=False))"
   ]
  }
 ],
 "metadata": {
  "kernelspec": {
   "display_name": "Python 3 (ipykernel)",
   "language": "python",
   "name": "python3"
  },
  "language_info": {
   "codemirror_mode": {
    "name": "ipython",
    "version": 3
   },
   "file_extension": ".py",
   "mimetype": "text/x-python",
   "name": "python",
   "nbconvert_exporter": "python",
   "pygments_lexer": "ipython3",
   "version": "3.9.7"
  }
 },
 "nbformat": 4,
 "nbformat_minor": 5
}
