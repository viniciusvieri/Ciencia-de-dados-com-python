{
 "cells": [
  {
   "cell_type": "markdown",
   "id": "ecef74af",
   "metadata": {},
   "source": [
    "   # Introdução à Ciência de Dados - UFPB - Exercício Numpy.\n",
    "   # Professor: Yuri Malheiros - Aluno: Vinícius Vieri Bezerra de Lima.\n",
    "\n",
    "NumPy\n",
    "\n",
    "# Questão 1\n",
    "\n",
    "Implemente a função distance abaixo. Ela deve receber dois pontos e retornar a distância euclidiana entre eles. Cada ponto é representado por um array do NumPy, por exemplo, p1 = np.array([2,4]) representa o ponto com coordenadas x=2 e y=2.\n",
    "\n",
    "import numpy as np\n",
    "\n",
    "    def distance(p1, p2):\n",
    "    \"\"\"\n",
    "    >>> distance(np.array([0,0]), np.array([1,1]))\n",
    "    1.4142135623730951\n",
    "    \n",
    "    *>>> distance(np.array([1,2]), np.array([3,4]))\n",
    "    2.8284271247461903*\n",
    "    \n",
    "    >>> distance(np.array([5,2]), np.array([-2,-1]))\n",
    "    7.615773105863909\n",
    "    \"\"\""
   ]
  },
  {
   "cell_type": "code",
   "execution_count": null,
   "id": "1cdfd83f",
   "metadata": {},
   "outputs": [],
   "source": [
    "import numpy as np \n",
    "import math\n",
    "from math import sqrt"
   ]
  },
  {
   "cell_type": "markdown",
   "id": "a63feaf4",
   "metadata": {},
   "source": [
    "**Primeiro, temos que saber o que exatamente é uma distância euclidiana**\n",
    "\n"
   ]
  },
  {
   "cell_type": "markdown",
   "id": "81438ef5",
   "metadata": {},
   "source": [
    "#### distancia euclidiana == raizquadrada(x2 - x1)^2 + (y2 - y1)^2"
   ]
  },
  {
   "cell_type": "markdown",
   "id": "e2ccd3c6",
   "metadata": {},
   "source": [
    "#### na primeira, decidi usar uma distância feita mais 'manualmente'"
   ]
  },
  {
   "cell_type": "markdown",
   "id": "4bac3910",
   "metadata": {},
   "source": [
    "#### temos então, a forma de calculá-la.\n",
    "    \n",
    "#### sqrt( (p2[0] - p1[0])**2 + (p2[1] - p1[1])**2 )"
   ]
  },
  {
   "cell_type": "code",
   "execution_count": null,
   "id": "75e64dcb",
   "metadata": {},
   "outputs": [],
   "source": [
    "def distance(p1, p2):\n",
    "    euclidian_distance = sqrt( (p2[0] - p1[0])**2 + (p2[1] - p1[1])**2 )\n",
    "    return euclidian_distance"
   ]
  },
  {
   "cell_type": "code",
   "execution_count": null,
   "id": "1727fec0",
   "metadata": {},
   "outputs": [],
   "source": [
    "distance(np.array([0,0]), np.array([1,1]))"
   ]
  },
  {
   "cell_type": "code",
   "execution_count": null,
   "id": "760675a5",
   "metadata": {},
   "outputs": [],
   "source": [
    "distance(np.array([1,2]), np.array([3,4]))"
   ]
  },
  {
   "cell_type": "code",
   "execution_count": null,
   "id": "afcf5713",
   "metadata": {},
   "outputs": [],
   "source": [
    "distance(np.array([5,2]), np.array([-2,-1]))"
   ]
  },
  {
   "cell_type": "markdown",
   "id": "c52fa5e9",
   "metadata": {},
   "source": [
    "# Questão 2\n",
    "\n",
    "Implemente a função n_distances abaixo. Ela recebe um ponto (p1), como um array do NumPy, e uma lista de pontos (points), uma matriz do NumPy, onde cada linha representa um ponto.\n",
    "\n",
    "Esta função deve retornar a distância de p1 para todos os pontos da matriz points. O retorno também é uma matriz, onde cada linha tem a distância de p1 para o ponto daquela linha.\n",
    "\n",
    "def n_distances(p1, points):\n",
    "    \"\"\"\n",
    "    >>> n_distances(np.array([0,0]), np.array([[1,1]]))\n",
    "    array([1.41421356])\n",
    "    \n",
    "    >>> n_distances(np.array([0,0]), np.array([[1,1], [2,2]]))\n",
    "    array([1.41421356, 2.82842712])\n",
    "    \n",
    "    >>> n_distances(np.array([1,2]), np.array([[3,-1], [2,1], [5, 2], [10, 1], [-2, -5]]))\n",
    "    array([3.60555128, 1.41421356, 4.        , 9.05538514, 7.61577311])\n",
    "    \"\"\"\n",
    "    "
   ]
  },
  {
   "cell_type": "markdown",
   "id": "a25fbec1",
   "metadata": {},
   "source": [
    "### Nesta questão estarei utilizando a math.dist da biblioteca math para calcular a distância euclidiana.\n",
    "### Ou seja, tentei equilibrar algo mais manual com algo mais rápido."
   ]
  },
  {
   "cell_type": "code",
   "execution_count": null,
   "id": "cee93a96",
   "metadata": {},
   "outputs": [],
   "source": [
    "def n_distances(p1, points):\n",
    "    euclidian_distance = np.zeros(len(points))\n",
    "    for i in range(len(points)):\n",
    "        euclidian_distance[i] = (math.dist(p1, points[i]))\n",
    "    return euclidian_distance"
   ]
  },
  {
   "cell_type": "code",
   "execution_count": null,
   "id": "0da7dbce",
   "metadata": {},
   "outputs": [],
   "source": [
    "n_distances(np.array([0,0]), np.array([[1,1], [2,2]]))"
   ]
  },
  {
   "cell_type": "code",
   "execution_count": null,
   "id": "c15d8550",
   "metadata": {},
   "outputs": [],
   "source": [
    "n_distances(np.array([1,2]), np.array([[3,-1], [2,1], [5, 2], [10, 1], [-2, -5]]))"
   ]
  }
 ],
 "metadata": {
  "kernelspec": {
   "display_name": "Python 3 (ipykernel)",
   "language": "python",
   "name": "python3"
  },
  "language_info": {
   "codemirror_mode": {
    "name": "ipython",
    "version": 3
   },
   "file_extension": ".py",
   "mimetype": "text/x-python",
   "name": "python",
   "nbconvert_exporter": "python",
   "pygments_lexer": "ipython3",
   "version": "3.9.7"
  }
 },
 "nbformat": 4,
 "nbformat_minor": 5
}
