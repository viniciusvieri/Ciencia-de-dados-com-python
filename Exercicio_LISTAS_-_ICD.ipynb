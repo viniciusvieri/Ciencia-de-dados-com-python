{
 "cells": [
  {
   "cell_type": "markdown",
   "id": "542d2f8a",
   "metadata": {},
   "source": [
    "### Utilizando o resultado do processamento da lista de músicas, vamos implementar duas funções."
   ]
  },
  {
   "cell_type": "code",
   "execution_count": null,
   "id": "4047dc8d",
   "metadata": {},
   "outputs": [],
   "source": [
    "top_10 = [\"Tones and I - Dance Monkey\", \"Lady Gaga, Ariana Grande - Rain on Me\",\n",
    "          \"Justin Bieber - Yummy\", \"MISCHO - Photon Love\", \"Dua Lipa - Break My Heart\",\n",
    "          \"Lady Gaga, BLACKPINK - Sour Candy\", \"Dua Lipa - Don't Start Now\",\n",
    "          \"Justin Bieber, Quavo - Intentions\", \"Doja Cat - Say So\",\n",
    "          \"Karol G, Nicki Minaj - Tusa\", \"Benee, Gus Dapperton - Supalonely\"]"
   ]
  },
  {
   "cell_type": "code",
   "execution_count": null,
   "id": "c3cf4c6c",
   "metadata": {},
   "outputs": [],
   "source": [
    "top_10_dict = [{\"artist\": x.split(\" - \")[0], \"song\": x.split(\" - \")[1]} for x in top_10]"
   ]
  },
  {
   "cell_type": "code",
   "execution_count": null,
   "id": "8c4f1ade",
   "metadata": {},
   "outputs": [],
   "source": [
    "top_10_dict"
   ]
  },
  {
   "cell_type": "markdown",
   "id": "819cf087",
   "metadata": {},
   "source": [
    "### A função get_songs vai receber a lista top_10_dict como parâmetro. Escreva o código para que ela retorne uma lista com todas as músicas:"
   ]
  },
  {
   "cell_type": "markdown",
   "id": "7c814a19",
   "metadata": {},
   "source": [
    "## versão básica"
   ]
  },
  {
   "cell_type": "code",
   "execution_count": null,
   "id": "5306c4cf",
   "metadata": {},
   "outputs": [],
   "source": [
    "def get_songs(top_10_dict):\n",
    "    so_musica=[]\n",
    "    for i in top_10_dict:\n",
    "        so_musica.append(i['song'])\n",
    "    print(f'Lista de músicas = {so_musica}')  "
   ]
  },
  {
   "cell_type": "code",
   "execution_count": null,
   "id": "2d93f814",
   "metadata": {},
   "outputs": [],
   "source": [
    "get_songs(top_10_dict)"
   ]
  },
  {
   "cell_type": "markdown",
   "id": "85f6d5bf",
   "metadata": {},
   "source": [
    "## versão enumerada"
   ]
  },
  {
   "cell_type": "code",
   "execution_count": null,
   "id": "2a5a15f5",
   "metadata": {},
   "outputs": [],
   "source": [
    "def get_songs(top_10_dict):\n",
    "    so_musica=[]\n",
    "    c = 1\n",
    "    for i in top_10_dict:\n",
    "        so_musica.append(\"Música %d = \" %(c) + i[\"song\"])\n",
    "        c+=1\n",
    "    print(f'Lista de músicas = {so_musica}') "
   ]
  },
  {
   "cell_type": "code",
   "execution_count": null,
   "id": "1c854b2b",
   "metadata": {},
   "outputs": [],
   "source": [
    "get_songs(top_10_dict)"
   ]
  }
 ],
 "metadata": {
  "kernelspec": {
   "display_name": "Python 3 (ipykernel)",
   "language": "python",
   "name": "python3"
  },
  "language_info": {
   "codemirror_mode": {
    "name": "ipython",
    "version": 3
   },
   "file_extension": ".py",
   "mimetype": "text/x-python",
   "name": "python",
   "nbconvert_exporter": "python",
   "pygments_lexer": "ipython3",
   "version": "3.9.7"
  }
 },
 "nbformat": 4,
 "nbformat_minor": 5
}
